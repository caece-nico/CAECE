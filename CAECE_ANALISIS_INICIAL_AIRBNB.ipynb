{
  "nbformat": 4,
  "nbformat_minor": 0,
  "metadata": {
    "colab": {
      "name": "CAECE_ANALISIS_INICIAL_AIRBNB.ipynb",
      "provenance": [],
      "toc_visible": true
    },
    "kernelspec": {
      "name": "python3",
      "display_name": "Python 3"
    }
  },
  "cells": [
    {
      "cell_type": "markdown",
      "metadata": {
        "id": "jCR65iNfR3jI",
        "colab_type": "text"
      },
      "source": [
        "# **Instalamos las librerias necesarias para el analisis geografico.**"
      ]
    },
    {
      "cell_type": "code",
      "metadata": {
        "id": "OCPvAiwKRxxx",
        "colab_type": "code",
        "colab": {}
      },
      "source": [
        "#pip install contextily"
      ],
      "execution_count": null,
      "outputs": []
    },
    {
      "cell_type": "code",
      "metadata": {
        "id": "_5gzQCo7qG8x",
        "colab_type": "code",
        "colab": {}
      },
      "source": [
        "#pip install geopandas"
      ],
      "execution_count": null,
      "outputs": []
    },
    {
      "cell_type": "code",
      "metadata": {
        "id": "UQUBiL16qDQb",
        "colab_type": "code",
        "colab": {}
      },
      "source": [
        "#pip install mapclassify"
      ],
      "execution_count": null,
      "outputs": []
    },
    {
      "cell_type": "code",
      "metadata": {
        "id": "I8Zq0Ze4iNMA",
        "colab_type": "code",
        "colab": {}
      },
      "source": [
        "pip install git+git://github.com/geopandas/geopandas.git"
      ],
      "execution_count": null,
      "outputs": []
    },
    {
      "cell_type": "code",
      "metadata": {
        "id": "x2tU4np6Y0uE",
        "colab_type": "code",
        "colab": {}
      },
      "source": [
        "pip install pygeos"
      ],
      "execution_count": null,
      "outputs": []
    },
    {
      "cell_type": "code",
      "metadata": {
        "id": "Rz8yaOYTb_mN",
        "colab_type": "code",
        "colab": {}
      },
      "source": [
        "import pandas as pd\n",
        "import matplotlib.pyplot as plt\n",
        "import contextily\n",
        "import geopandas\n",
        "import pygeos\n",
        "from shapely.geometry import Polygon\n",
        "import mapclassify"
      ],
      "execution_count": 95,
      "outputs": []
    },
    {
      "cell_type": "code",
      "metadata": {
        "id": "omSEXCmoSj8c",
        "colab_type": "code",
        "colab": {
          "base_uri": "https://localhost:8080/",
          "height": 54
        },
        "outputId": "9713c6f4-287d-4313-839e-a93b7b2b80ec"
      },
      "source": [
        "from google.colab import drive\n",
        "drive.mount('/content/drive/') "
      ],
      "execution_count": 2,
      "outputs": [
        {
          "output_type": "stream",
          "text": [
            "Drive already mounted at /content/drive/; to attempt to forcibly remount, call drive.mount(\"/content/drive/\", force_remount=True).\n"
          ],
          "name": "stdout"
        }
      ]
    },
    {
      "cell_type": "code",
      "metadata": {
        "id": "ZMRpU4ww-Kpz",
        "colab_type": "code",
        "colab": {
          "base_uri": "https://localhost:8080/",
          "height": 51
        },
        "outputId": "e7f2e50d-6d2a-4792-e920-6e211578bf6a"
      },
      "source": [
        "!ls '/content/drive/My Drive/CAECE_DATA/'"
      ],
      "execution_count": 62,
      "outputs": [
        {
          "output_type": "stream",
          "text": [
            "BA_barrios.geojson\tbocas_de_subte.geojson\tlistings_BA.csv\n",
            "barrios_airbnb.geojson\tespacio_verde.geojson\n"
          ],
          "name": "stdout"
        }
      ]
    },
    {
      "cell_type": "markdown",
      "metadata": {
        "id": "ZCbKPqMDTLAz",
        "colab_type": "text"
      },
      "source": [
        "Cargamos los archivos que vamos a usar"
      ]
    },
    {
      "cell_type": "code",
      "metadata": {
        "id": "lWdXDwptcueU",
        "colab_type": "code",
        "colab": {}
      },
      "source": [
        "#datos AIRBNB\n",
        "barrios_airbnb = geopandas.read_file('/content/drive/My Drive/CAECE_DATA/barrios_airbnb.geojson')\n",
        "airbnb = pd.read_csv('/content/drive/My Drive/CAECE_DATA/listings_BA.csv')\n",
        "\n",
        "#datos BA\n",
        "subtes = geopandas.read_file('/content/drive/My Drive/CAECE_DATA/bocas_de_subte.geojson')\n",
        "barrios = geopandas.read_file('/content/drive/My Drive/CAECE_DATA/BA_barrios.geojson')\n",
        "espacios_verdes = geopandas.read_file('/content/drive/My Drive/CAECE_DATA/espacio_verde.geojson')"
      ],
      "execution_count": 63,
      "outputs": []
    },
    {
      "cell_type": "code",
      "metadata": {
        "id": "ir1JzzUzT4jh",
        "colab_type": "code",
        "colab": {
          "base_uri": "https://localhost:8080/",
          "height": 102
        },
        "outputId": "93bacf87-865b-4f02-8fc2-7ac55120a99a"
      },
      "source": [
        "print(type(barrios_airbnb))\n",
        "print(type(airbnb))\n",
        "\n",
        "print(type(subtes))\n",
        "print(type(barrios))\n",
        "print(type(espacios_verdes))"
      ],
      "execution_count": 84,
      "outputs": [
        {
          "output_type": "stream",
          "text": [
            "<class 'geopandas.geodataframe.GeoDataFrame'>\n",
            "<class 'geopandas.geodataframe.GeoDataFrame'>\n",
            "<class 'geopandas.geodataframe.GeoDataFrame'>\n",
            "<class 'geopandas.geodataframe.GeoDataFrame'>\n",
            "<class 'geopandas.geodataframe.GeoDataFrame'>\n"
          ],
          "name": "stdout"
        }
      ]
    },
    {
      "cell_type": "markdown",
      "metadata": {
        "id": "LTDyn6ybUHnm",
        "colab_type": "text"
      },
      "source": [
        "airbnb no es un dataframes con geolocalizacion hay que convertirlo para poder usar las librerias necesarias."
      ]
    },
    {
      "cell_type": "code",
      "metadata": {
        "id": "nFHinR6iUV6q",
        "colab_type": "code",
        "colab": {}
      },
      "source": [
        "airbnb = geopandas.GeoDataFrame(airbnb, geometry=geopandas.points_from_xy(airbnb.longitude, airbnb.latitude), crs='EPSG:4326')\n"
      ],
      "execution_count": 85,
      "outputs": []
    },
    {
      "cell_type": "code",
      "metadata": {
        "id": "mUJwCpKNUeQy",
        "colab_type": "code",
        "colab": {
          "base_uri": "https://localhost:8080/",
          "height": 428
        },
        "outputId": "85b4078e-4eed-41d7-abe1-626d6f8d00cd"
      },
      "source": [
        "subtes.head() ## al final tiene los puntos creados... POINT"
      ],
      "execution_count": 86,
      "outputs": [
        {
          "output_type": "execute_result",
          "data": {
            "text/html": [
              "<div>\n",
              "<style scoped>\n",
              "    .dataframe tbody tr th:only-of-type {\n",
              "        vertical-align: middle;\n",
              "    }\n",
              "\n",
              "    .dataframe tbody tr th {\n",
              "        vertical-align: top;\n",
              "    }\n",
              "\n",
              "    .dataframe thead th {\n",
              "        text-align: right;\n",
              "    }\n",
              "</style>\n",
              "<table border=\"1\" class=\"dataframe\">\n",
              "  <thead>\n",
              "    <tr style=\"text-align: right;\">\n",
              "      <th></th>\n",
              "      <th>id</th>\n",
              "      <th>linea</th>\n",
              "      <th>estacion</th>\n",
              "      <th>numero_de_</th>\n",
              "      <th>destino_bo</th>\n",
              "      <th>lineas_de_</th>\n",
              "      <th>cierra_fin</th>\n",
              "      <th>escalera_p</th>\n",
              "      <th>escalera_m</th>\n",
              "      <th>ascensor</th>\n",
              "      <th>rampa</th>\n",
              "      <th>salvaescal</th>\n",
              "      <th>calle</th>\n",
              "      <th>altura</th>\n",
              "      <th>calle2</th>\n",
              "      <th>barrio</th>\n",
              "      <th>comuna</th>\n",
              "      <th>observacio</th>\n",
              "      <th>Objeto</th>\n",
              "      <th>dom_norma</th>\n",
              "      <th>dom_orig</th>\n",
              "      <th>geometry</th>\n",
              "    </tr>\n",
              "  </thead>\n",
              "  <tbody>\n",
              "    <tr>\n",
              "      <th>0</th>\n",
              "      <td>1</td>\n",
              "      <td>D</td>\n",
              "      <td>TRIBUNALES - TEATRO COLÓN</td>\n",
              "      <td>4</td>\n",
              "      <td>a Catedral y Congreso de Tucumán</td>\n",
              "      <td>None</td>\n",
              "      <td>True</td>\n",
              "      <td>True</td>\n",
              "      <td>False</td>\n",
              "      <td>False</td>\n",
              "      <td>False</td>\n",
              "      <td>False</td>\n",
              "      <td>Libertad</td>\n",
              "      <td>556</td>\n",
              "      <td>None</td>\n",
              "      <td>San Nicolas</td>\n",
              "      <td>Comuna 1</td>\n",
              "      <td>Andén central</td>\n",
              "      <td>Boca de subte</td>\n",
              "      <td>LIBERTAD 556</td>\n",
              "      <td>Libertad 556</td>\n",
              "      <td>POINT (-58.38407 -34.60211)</td>\n",
              "    </tr>\n",
              "    <tr>\n",
              "      <th>1</th>\n",
              "      <td>2</td>\n",
              "      <td>D</td>\n",
              "      <td>TRIBUNALES - TEATRO COLÓN</td>\n",
              "      <td>5</td>\n",
              "      <td>a Catedral y Congreso de Tucumán</td>\n",
              "      <td>None</td>\n",
              "      <td>True</td>\n",
              "      <td>True</td>\n",
              "      <td>False</td>\n",
              "      <td>False</td>\n",
              "      <td>False</td>\n",
              "      <td>False</td>\n",
              "      <td>Lavalle</td>\n",
              "      <td>1221</td>\n",
              "      <td>None</td>\n",
              "      <td>San Nicolas</td>\n",
              "      <td>Comuna 1</td>\n",
              "      <td>Andén central</td>\n",
              "      <td>Boca de subte</td>\n",
              "      <td>LAVALLE 1221</td>\n",
              "      <td>Lavalle 1221</td>\n",
              "      <td>POINT (-58.38437 -34.60239)</td>\n",
              "    </tr>\n",
              "    <tr>\n",
              "      <th>2</th>\n",
              "      <td>3</td>\n",
              "      <td>H</td>\n",
              "      <td>LAS HERAS</td>\n",
              "      <td>1</td>\n",
              "      <td>a Hospitales</td>\n",
              "      <td>None</td>\n",
              "      <td>False</td>\n",
              "      <td>True</td>\n",
              "      <td>True</td>\n",
              "      <td>False</td>\n",
              "      <td>False</td>\n",
              "      <td>False</td>\n",
              "      <td>Pueyrredon</td>\n",
              "      <td>2199</td>\n",
              "      <td>None</td>\n",
              "      <td>None</td>\n",
              "      <td>None</td>\n",
              "      <td>Vestíbulo intermedio</td>\n",
              "      <td>Boca de subte</td>\n",
              "      <td>None</td>\n",
              "      <td>Pueyrredon 2199</td>\n",
              "      <td>POINT (-58.39725 -34.58780)</td>\n",
              "    </tr>\n",
              "    <tr>\n",
              "      <th>3</th>\n",
              "      <td>4</td>\n",
              "      <td>H</td>\n",
              "      <td>CÓRDOBA</td>\n",
              "      <td>1</td>\n",
              "      <td>a Las Heras y Hopitales</td>\n",
              "      <td>None</td>\n",
              "      <td>False</td>\n",
              "      <td>True</td>\n",
              "      <td>True</td>\n",
              "      <td>True</td>\n",
              "      <td>False</td>\n",
              "      <td>False</td>\n",
              "      <td>Pueyrredon</td>\n",
              "      <td>984</td>\n",
              "      <td>None</td>\n",
              "      <td>None</td>\n",
              "      <td>None</td>\n",
              "      <td>Vestíbulo intermedio</td>\n",
              "      <td>Boca de subte</td>\n",
              "      <td>None</td>\n",
              "      <td>Pueyrredon 984</td>\n",
              "      <td>POINT (-58.40397 -34.59873)</td>\n",
              "    </tr>\n",
              "    <tr>\n",
              "      <th>4</th>\n",
              "      <td>5</td>\n",
              "      <td>H</td>\n",
              "      <td>CORRIENTES</td>\n",
              "      <td>6</td>\n",
              "      <td>a Las Heras y Hospitales</td>\n",
              "      <td>B</td>\n",
              "      <td>False</td>\n",
              "      <td>False</td>\n",
              "      <td>False</td>\n",
              "      <td>True</td>\n",
              "      <td>False</td>\n",
              "      <td>False</td>\n",
              "      <td>Pueyrredón</td>\n",
              "      <td>558</td>\n",
              "      <td>None</td>\n",
              "      <td>None</td>\n",
              "      <td>None</td>\n",
              "      <td>Vestíbulo intermedio</td>\n",
              "      <td>Boca de subte</td>\n",
              "      <td>None</td>\n",
              "      <td>Pueyrredón 558</td>\n",
              "      <td>POINT (-58.40541 -34.60388)</td>\n",
              "    </tr>\n",
              "  </tbody>\n",
              "</table>\n",
              "</div>"
            ],
            "text/plain": [
              "   id linea  ...         dom_orig                     geometry\n",
              "0   1     D  ...     Libertad 556  POINT (-58.38407 -34.60211)\n",
              "1   2     D  ...     Lavalle 1221  POINT (-58.38437 -34.60239)\n",
              "2   3     H  ...  Pueyrredon 2199  POINT (-58.39725 -34.58780)\n",
              "3   4     H  ...   Pueyrredon 984  POINT (-58.40397 -34.59873)\n",
              "4   5     H  ...   Pueyrredón 558  POINT (-58.40541 -34.60388)\n",
              "\n",
              "[5 rows x 22 columns]"
            ]
          },
          "metadata": {
            "tags": []
          },
          "execution_count": 86
        }
      ]
    },
    {
      "cell_type": "code",
      "metadata": {
        "id": "NrRyxhFlWEgP",
        "colab_type": "code",
        "colab": {
          "base_uri": "https://localhost:8080/",
          "height": 315
        },
        "outputId": "9502cd4d-66bb-468f-c646-c56a515a4567"
      },
      "source": [
        "airbnb.hist('price')"
      ],
      "execution_count": 87,
      "outputs": [
        {
          "output_type": "execute_result",
          "data": {
            "text/plain": [
              "array([[<matplotlib.axes._subplots.AxesSubplot object at 0x7f7be5596978>]],\n",
              "      dtype=object)"
            ]
          },
          "metadata": {
            "tags": []
          },
          "execution_count": 87
        },
        {
          "output_type": "display_data",
          "data": {
            "image/png": "[encoded data removed]",
            "text/plain": [
              "<Figure size 432x288 with 1 Axes>"
            ]
          },
          "metadata": {
            "tags": [],
            "needs_background": "light"
          }
        }
      ]
    },
    {
      "cell_type": "code",
      "metadata": {
        "id": "Z_-oOcpqVCzl",
        "colab_type": "code",
        "colab": {
          "base_uri": "https://localhost:8080/",
          "height": 315
        },
        "outputId": "f0558d59-a3f5-4d69-fb0a-c8239981d095"
      },
      "source": [
        "airbnb_aux = airbnb[airbnb['price']< 90000]\n",
        "airbnb_aux.hist('price')"
      ],
      "execution_count": 88,
      "outputs": [
        {
          "output_type": "execute_result",
          "data": {
            "text/plain": [
              "array([[<matplotlib.axes._subplots.AxesSubplot object at 0x7f7be5596a58>]],\n",
              "      dtype=object)"
            ]
          },
          "metadata": {
            "tags": []
          },
          "execution_count": 88
        },
        {
          "output_type": "display_data",
          "data": {
            "image/png": "[encoded data removed]",
            "text/plain": [
              "<Figure size 432x288 with 1 Axes>"
            ]
          },
          "metadata": {
            "tags": [],
            "needs_background": "light"
          }
        }
      ]
    },
    {
      "cell_type": "code",
      "metadata": {
        "id": "0R2naOnQW7IS",
        "colab_type": "code",
        "colab": {}
      },
      "source": [
        "airbnb_aux = airbnb_aux.to_crs(epsg=4326)"
      ],
      "execution_count": 10,
      "outputs": []
    },
    {
      "cell_type": "markdown",
      "metadata": {
        "id": "-NMQZKDe_MSz",
        "colab_type": "text"
      },
      "source": [
        "Combinamos el data set de Barrios y bocas de subtes."
      ]
    },
    {
      "cell_type": "code",
      "metadata": {
        "id": "hqCnLg16aRlP",
        "colab_type": "code",
        "colab": {
          "base_uri": "https://localhost:8080/",
          "height": 374
        },
        "outputId": "1f46fbbe-3b3f-4989-b19c-76d2e40b7486"
      },
      "source": [
        "fig, ax = plt.subplots(figsize=(12,6))\n",
        "barrios.plot(ax=ax)\n",
        "subtes.plot(ax=ax, color = 'red',markersize = 15)\n",
        "plt.show()"
      ],
      "execution_count": 11,
      "outputs": [
        {
          "output_type": "display_data",
          "data": {
            "image/png": "[encoded data removed]",
            "text/plain": [
              "<Figure size 864x432 with 1 Axes>"
            ]
          },
          "metadata": {
            "tags": [],
            "needs_background": "light"
          }
        }
      ]
    },
    {
      "cell_type": "code",
      "metadata": {
        "id": "bIsbFa2yaDVz",
        "colab_type": "code",
        "colab": {}
      },
      "source": [
        ""
      ],
      "execution_count": null,
      "outputs": []
    },
    {
      "cell_type": "markdown",
      "metadata": {
        "id": "YN6Tos3AW_SE",
        "colab_type": "text"
      },
      "source": [
        "combinamos el dataset de airbnb y barrios (poligonos) para crear un mapa con delimitacion de los barrios y precios.\n",
        "Calculamos el total de departamentos disponibles por barrio."
      ]
    },
    {
      "cell_type": "code",
      "metadata": {
        "id": "1khPRwAwXI4w",
        "colab_type": "code",
        "colab": {
          "base_uri": "https://localhost:8080/",
          "height": 235
        },
        "outputId": "b81e9c11-daf0-431a-a78c-304f0dc53ab8"
      },
      "source": [
        "joines = geopandas.sjoin(airbnb, barrios, op='within')\n",
        "alquileres_por_barrio = joines.groupby('neighbourhood_left').size()\n",
        "alquileres_por_barrio = alquileres_por_barrio.to_frame(name='total')\n",
        "pd.DataFrame(alquileres_por_barrio, index = None).head()\n"
      ],
      "execution_count": 185,
      "outputs": [
        {
          "output_type": "execute_result",
          "data": {
            "text/html": [
              "<div>\n",
              "<style scoped>\n",
              "    .dataframe tbody tr th:only-of-type {\n",
              "        vertical-align: middle;\n",
              "    }\n",
              "\n",
              "    .dataframe tbody tr th {\n",
              "        vertical-align: top;\n",
              "    }\n",
              "\n",
              "    .dataframe thead th {\n",
              "        text-align: right;\n",
              "    }\n",
              "</style>\n",
              "<table border=\"1\" class=\"dataframe\">\n",
              "  <thead>\n",
              "    <tr style=\"text-align: right;\">\n",
              "      <th></th>\n",
              "      <th>total</th>\n",
              "    </tr>\n",
              "    <tr>\n",
              "      <th>neighbourhood_left</th>\n",
              "      <th></th>\n",
              "    </tr>\n",
              "  </thead>\n",
              "  <tbody>\n",
              "    <tr>\n",
              "      <th>Agronomia</th>\n",
              "      <td>31</td>\n",
              "    </tr>\n",
              "    <tr>\n",
              "      <th>Almagro</th>\n",
              "      <td>985</td>\n",
              "    </tr>\n",
              "    <tr>\n",
              "      <th>Balvanera</th>\n",
              "      <td>1171</td>\n",
              "    </tr>\n",
              "    <tr>\n",
              "      <th>Barracas</th>\n",
              "      <td>167</td>\n",
              "    </tr>\n",
              "    <tr>\n",
              "      <th>Belgrano</th>\n",
              "      <td>1110</td>\n",
              "    </tr>\n",
              "  </tbody>\n",
              "</table>\n",
              "</div>"
            ],
            "text/plain": [
              "                    total\n",
              "neighbourhood_left       \n",
              "Agronomia              31\n",
              "Almagro               985\n",
              "Balvanera            1171\n",
              "Barracas              167\n",
              "Belgrano             1110"
            ]
          },
          "metadata": {
            "tags": []
          },
          "execution_count": 185
        }
      ]
    },
    {
      "cell_type": "markdown",
      "metadata": {
        "id": "aouTalgw_f5G",
        "colab_type": "text"
      },
      "source": [
        "Usando los datos de los poigonos, podemos usar el AREA de cada barrio para saber la densidad de departamentos en alquiler por metro cuadrado."
      ]
    },
    {
      "cell_type": "code",
      "metadata": {
        "id": "4w_ymYjedS2H",
        "colab_type": "code",
        "colab": {
          "base_uri": "https://localhost:8080/",
          "height": 568
        },
        "outputId": "e38b4114-5f3d-431e-b570-513c2d13d2f5"
      },
      "source": [
        "\n",
        "barrios_alquileres = barrios.merge(alquileres_por_barrio, left_on='neighbourhood', right_on='neighbourhood_left')\n",
        "barrios_alquileres['densidad'] = barrios_alquileres.total / barrios_alquileres.geometry.area\n",
        "barrios_alquileres.plot(column = 'densidad', legend = True, label = 'neighbourhood')\n",
        "plt.show()\n",
        "print(barrios_alquileres.sort_values('densidad', ascending=False).head(10))"
      ],
      "execution_count": 205,
      "outputs": [
        {
          "output_type": "stream",
          "text": [
            "/usr/local/lib/python3.6/dist-packages/ipykernel_launcher.py:3: UserWarning: Geometry is in a geographic CRS. Results from 'area' are likely incorrect. Use 'GeoSeries.to_crs()' to re-project geometries to a projected CRS before this operation.\n",
            "\n",
            "  This is separate from the ipykernel package so we can avoid doing imports until\n"
          ],
          "name": "stderr"
        },
        {
          "output_type": "display_data",
          "data": {
            "image/png": "[encoded data removed]",
            "text/plain": [
              "<Figure size 432x288 with 2 Axes>"
            ]
          },
          "metadata": {
            "tags": [],
            "needs_background": "light"
          }
        },
        {
          "output_type": "stream",
          "text": [
            "   neighbourhood neighbourhood_group  ... total      densidad\n",
            "6       Recoleta                None  ...  4007  6.641459e+06\n",
            "46   San Nicolas                None  ...  1471  6.539613e+06\n",
            "33     San Telmo                None  ...   755  6.233711e+06\n",
            "45     Monserrat                None  ...  1053  4.873129e+06\n",
            "2        Palermo                None  ...  7229  4.665669e+06\n",
            "7         Retiro                None  ...  1260  2.828190e+06\n",
            "30     Balvanera                None  ...  1171  2.744079e+06\n",
            "13       Almagro                None  ...   985  2.474301e+06\n",
            "1   Villa Crespo                None  ...   794  2.236067e+06\n",
            "27    Colegiales                None  ...   465  2.067253e+06\n",
            "\n",
            "[10 rows x 5 columns]\n"
          ],
          "name": "stdout"
        }
      ]
    },
    {
      "cell_type": "markdown",
      "metadata": {
        "id": "xqXMeAwF_pa6",
        "colab_type": "text"
      },
      "source": [
        "Total de departemento por barrio."
      ]
    },
    {
      "cell_type": "code",
      "metadata": {
        "id": "ESkex4fVuUl3",
        "colab_type": "code",
        "colab": {
          "base_uri": "https://localhost:8080/",
          "height": 401
        },
        "outputId": "877ef0c6-7706-4685-fc22-3ab0dad19a57"
      },
      "source": [
        "barrios_alquileres = barrios.merge(alquileres_por_barrio, left_on='neighbourhood', right_on='neighbourhood_left')\n",
        "barrios_alquileres.plot(column = 'total', legend = True, label = 'neighbourhood')\n",
        "plt.show()\n",
        "print(barrios_alquileres.sort_values('total',ascending=False).head(5))"
      ],
      "execution_count": 207,
      "outputs": [
        {
          "output_type": "display_data",
          "data": {
            "image/png": "[encoded data removed]",
            "text/plain": [
              "<Figure size 432x288 with 2 Axes>"
            ]
          },
          "metadata": {
            "tags": [],
            "needs_background": "light"
          }
        },
        {
          "output_type": "stream",
          "text": [
            "   neighbourhood  ... total\n",
            "2        Palermo  ...  7229\n",
            "6       Recoleta  ...  4007\n",
            "46   San Nicolas  ...  1471\n",
            "7         Retiro  ...  1260\n",
            "30     Balvanera  ...  1171\n",
            "\n",
            "[5 rows x 4 columns]\n"
          ],
          "name": "stdout"
        }
      ]
    },
    {
      "cell_type": "code",
      "metadata": {
        "id": "p7Pptyli6oXQ",
        "colab_type": "code",
        "colab": {}
      },
      "source": [
        ""
      ],
      "execution_count": null,
      "outputs": []
    }
  ]
}